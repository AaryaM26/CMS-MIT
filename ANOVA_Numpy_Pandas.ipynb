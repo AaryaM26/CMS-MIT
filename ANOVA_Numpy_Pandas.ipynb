{
 "cells": [
  {
   "cell_type": "code",
   "execution_count": 23,
   "id": "53df2046",
   "metadata": {},
   "outputs": [],
   "source": [
    "import pandas as pd\n",
    "import numpy as np"
   ]
  },
  {
   "cell_type": "raw",
   "id": "551c34a7",
   "metadata": {},
   "source": [
    "ANOVA TABLE USING NUMPY AND PANDAS - no libraries"
   ]
  },
  {
   "cell_type": "code",
   "execution_count": 24,
   "id": "9ace48c9",
   "metadata": {},
   "outputs": [],
   "source": [
    "A=np.array([447,561,556,555,443,554])\n",
    "B=np.array([552,558,436,556,512,440])\n",
    "C=np.array([540,492,537,457,456,539])\n",
    "D=np.array([488,454,543,543,550,548])\n",
    "E=np.array([545,454,458,540,530,452])"
   ]
  },
  {
   "cell_type": "code",
   "execution_count": 25,
   "id": "d7e87d7a",
   "metadata": {},
   "outputs": [],
   "source": [
    "dictQ2 = {\"A\":A,\"B\":B,\"C\":C,\"D\":D,\"E\":E}\n",
    "dfQ2 = pd.DataFrame(dictQ2)"
   ]
  },
  {
   "cell_type": "code",
   "execution_count": 26,
   "id": "471c122c",
   "metadata": {},
   "outputs": [],
   "source": [
    "df1Q2 = dfQ2.melt()"
   ]
  },
  {
   "cell_type": "code",
   "execution_count": 27,
   "id": "5ab6fa9f",
   "metadata": {},
   "outputs": [
    {
     "data": {
      "text/plain": [
       "Index(['variable', 'value'], dtype='object')"
      ]
     },
     "execution_count": 27,
     "metadata": {},
     "output_type": "execute_result"
    }
   ],
   "source": [
    "df1Q2.columns"
   ]
  },
  {
   "cell_type": "code",
   "execution_count": 28,
   "id": "43fe5221",
   "metadata": {},
   "outputs": [
    {
     "data": {
      "text/html": [
       "<div>\n",
       "<style scoped>\n",
       "    .dataframe tbody tr th:only-of-type {\n",
       "        vertical-align: middle;\n",
       "    }\n",
       "\n",
       "    .dataframe tbody tr th {\n",
       "        vertical-align: top;\n",
       "    }\n",
       "\n",
       "    .dataframe thead th {\n",
       "        text-align: right;\n",
       "    }\n",
       "</style>\n",
       "<table border=\"1\" class=\"dataframe\">\n",
       "  <thead>\n",
       "    <tr style=\"text-align: right;\">\n",
       "      <th></th>\n",
       "      <th>variable</th>\n",
       "      <th>value</th>\n",
       "    </tr>\n",
       "  </thead>\n",
       "  <tbody>\n",
       "    <tr>\n",
       "      <th>0</th>\n",
       "      <td>A</td>\n",
       "      <td>447</td>\n",
       "    </tr>\n",
       "    <tr>\n",
       "      <th>1</th>\n",
       "      <td>A</td>\n",
       "      <td>561</td>\n",
       "    </tr>\n",
       "    <tr>\n",
       "      <th>2</th>\n",
       "      <td>A</td>\n",
       "      <td>556</td>\n",
       "    </tr>\n",
       "    <tr>\n",
       "      <th>3</th>\n",
       "      <td>A</td>\n",
       "      <td>555</td>\n",
       "    </tr>\n",
       "    <tr>\n",
       "      <th>4</th>\n",
       "      <td>A</td>\n",
       "      <td>443</td>\n",
       "    </tr>\n",
       "    <tr>\n",
       "      <th>5</th>\n",
       "      <td>A</td>\n",
       "      <td>554</td>\n",
       "    </tr>\n",
       "    <tr>\n",
       "      <th>6</th>\n",
       "      <td>B</td>\n",
       "      <td>552</td>\n",
       "    </tr>\n",
       "    <tr>\n",
       "      <th>7</th>\n",
       "      <td>B</td>\n",
       "      <td>558</td>\n",
       "    </tr>\n",
       "    <tr>\n",
       "      <th>8</th>\n",
       "      <td>B</td>\n",
       "      <td>436</td>\n",
       "    </tr>\n",
       "    <tr>\n",
       "      <th>9</th>\n",
       "      <td>B</td>\n",
       "      <td>556</td>\n",
       "    </tr>\n",
       "    <tr>\n",
       "      <th>10</th>\n",
       "      <td>B</td>\n",
       "      <td>512</td>\n",
       "    </tr>\n",
       "    <tr>\n",
       "      <th>11</th>\n",
       "      <td>B</td>\n",
       "      <td>440</td>\n",
       "    </tr>\n",
       "    <tr>\n",
       "      <th>12</th>\n",
       "      <td>C</td>\n",
       "      <td>540</td>\n",
       "    </tr>\n",
       "    <tr>\n",
       "      <th>13</th>\n",
       "      <td>C</td>\n",
       "      <td>492</td>\n",
       "    </tr>\n",
       "    <tr>\n",
       "      <th>14</th>\n",
       "      <td>C</td>\n",
       "      <td>537</td>\n",
       "    </tr>\n",
       "    <tr>\n",
       "      <th>15</th>\n",
       "      <td>C</td>\n",
       "      <td>457</td>\n",
       "    </tr>\n",
       "    <tr>\n",
       "      <th>16</th>\n",
       "      <td>C</td>\n",
       "      <td>456</td>\n",
       "    </tr>\n",
       "    <tr>\n",
       "      <th>17</th>\n",
       "      <td>C</td>\n",
       "      <td>539</td>\n",
       "    </tr>\n",
       "    <tr>\n",
       "      <th>18</th>\n",
       "      <td>D</td>\n",
       "      <td>488</td>\n",
       "    </tr>\n",
       "    <tr>\n",
       "      <th>19</th>\n",
       "      <td>D</td>\n",
       "      <td>454</td>\n",
       "    </tr>\n",
       "    <tr>\n",
       "      <th>20</th>\n",
       "      <td>D</td>\n",
       "      <td>543</td>\n",
       "    </tr>\n",
       "    <tr>\n",
       "      <th>21</th>\n",
       "      <td>D</td>\n",
       "      <td>543</td>\n",
       "    </tr>\n",
       "    <tr>\n",
       "      <th>22</th>\n",
       "      <td>D</td>\n",
       "      <td>550</td>\n",
       "    </tr>\n",
       "    <tr>\n",
       "      <th>23</th>\n",
       "      <td>D</td>\n",
       "      <td>548</td>\n",
       "    </tr>\n",
       "    <tr>\n",
       "      <th>24</th>\n",
       "      <td>E</td>\n",
       "      <td>545</td>\n",
       "    </tr>\n",
       "    <tr>\n",
       "      <th>25</th>\n",
       "      <td>E</td>\n",
       "      <td>454</td>\n",
       "    </tr>\n",
       "    <tr>\n",
       "      <th>26</th>\n",
       "      <td>E</td>\n",
       "      <td>458</td>\n",
       "    </tr>\n",
       "    <tr>\n",
       "      <th>27</th>\n",
       "      <td>E</td>\n",
       "      <td>540</td>\n",
       "    </tr>\n",
       "    <tr>\n",
       "      <th>28</th>\n",
       "      <td>E</td>\n",
       "      <td>530</td>\n",
       "    </tr>\n",
       "    <tr>\n",
       "      <th>29</th>\n",
       "      <td>E</td>\n",
       "      <td>452</td>\n",
       "    </tr>\n",
       "  </tbody>\n",
       "</table>\n",
       "</div>"
      ],
      "text/plain": [
       "   variable  value\n",
       "0         A    447\n",
       "1         A    561\n",
       "2         A    556\n",
       "3         A    555\n",
       "4         A    443\n",
       "5         A    554\n",
       "6         B    552\n",
       "7         B    558\n",
       "8         B    436\n",
       "9         B    556\n",
       "10        B    512\n",
       "11        B    440\n",
       "12        C    540\n",
       "13        C    492\n",
       "14        C    537\n",
       "15        C    457\n",
       "16        C    456\n",
       "17        C    539\n",
       "18        D    488\n",
       "19        D    454\n",
       "20        D    543\n",
       "21        D    543\n",
       "22        D    550\n",
       "23        D    548\n",
       "24        E    545\n",
       "25        E    454\n",
       "26        E    458\n",
       "27        E    540\n",
       "28        E    530\n",
       "29        E    452"
      ]
     },
     "execution_count": 28,
     "metadata": {},
     "output_type": "execute_result"
    }
   ],
   "source": [
    "df1Q2"
   ]
  },
  {
   "cell_type": "code",
   "execution_count": 29,
   "id": "0577a437",
   "metadata": {},
   "outputs": [],
   "source": [
    "df_treatments=df1Q2.variable.nunique(dropna = True)-1"
   ]
  },
  {
   "cell_type": "code",
   "execution_count": 30,
   "id": "95cc05e9",
   "metadata": {},
   "outputs": [
    {
     "data": {
      "text/plain": [
       "4"
      ]
     },
     "execution_count": 30,
     "metadata": {},
     "output_type": "execute_result"
    }
   ],
   "source": [
    "df_treatments"
   ]
  },
  {
   "cell_type": "code",
   "execution_count": 31,
   "id": "dc38f454",
   "metadata": {},
   "outputs": [],
   "source": [
    "df_total=df1Q2.value.count()-1"
   ]
  },
  {
   "cell_type": "code",
   "execution_count": 32,
   "id": "0037ea79",
   "metadata": {},
   "outputs": [
    {
     "data": {
      "text/plain": [
       "29"
      ]
     },
     "execution_count": 32,
     "metadata": {},
     "output_type": "execute_result"
    }
   ],
   "source": [
    "df_total"
   ]
  },
  {
   "cell_type": "code",
   "execution_count": 33,
   "id": "1d0a0820",
   "metadata": {},
   "outputs": [],
   "source": [
    "df_error=df_total-df_treatments"
   ]
  },
  {
   "cell_type": "code",
   "execution_count": 34,
   "id": "fcc43f07",
   "metadata": {},
   "outputs": [
    {
     "data": {
      "text/plain": [
       "25"
      ]
     },
     "execution_count": 34,
     "metadata": {},
     "output_type": "execute_result"
    }
   ],
   "source": [
    "df_error"
   ]
  },
  {
   "cell_type": "code",
   "execution_count": 37,
   "id": "965cb15a",
   "metadata": {},
   "outputs": [],
   "source": [
    "mean_a=np.mean(A)\n",
    "mean_b=np.mean(B)\n",
    "mean_c=np.mean(C)\n",
    "mean_d=np.mean(D)\n",
    "mean_e=np.mean(E)"
   ]
  },
  {
   "cell_type": "code",
   "execution_count": 38,
   "id": "32331d66",
   "metadata": {},
   "outputs": [
    {
     "data": {
      "text/plain": [
       "519.3333333333334"
      ]
     },
     "execution_count": 38,
     "metadata": {},
     "output_type": "execute_result"
    }
   ],
   "source": [
    "mean_a"
   ]
  },
  {
   "cell_type": "code",
   "execution_count": 51,
   "id": "1ca43951",
   "metadata": {},
   "outputs": [],
   "source": [
    "mean_tot=df1Q2.value.mean()"
   ]
  },
  {
   "cell_type": "code",
   "execution_count": 52,
   "id": "7e5fd45e",
   "metadata": {},
   "outputs": [
    {
     "data": {
      "text/plain": [
       "509.8666666666667"
      ]
     },
     "execution_count": 52,
     "metadata": {},
     "output_type": "execute_result"
    }
   ],
   "source": [
    "mean_tot"
   ]
  },
  {
   "cell_type": "code",
   "execution_count": 53,
   "id": "712be77d",
   "metadata": {},
   "outputs": [
    {
     "data": {
      "text/plain": [
       "0     447\n",
       "1     561\n",
       "2     556\n",
       "3     555\n",
       "4     443\n",
       "5     554\n",
       "6     552\n",
       "7     558\n",
       "8     436\n",
       "9     556\n",
       "10    512\n",
       "11    440\n",
       "12    540\n",
       "13    492\n",
       "14    537\n",
       "15    457\n",
       "16    456\n",
       "17    539\n",
       "18    488\n",
       "19    454\n",
       "20    543\n",
       "21    543\n",
       "22    550\n",
       "23    548\n",
       "24    545\n",
       "25    454\n",
       "26    458\n",
       "27    540\n",
       "28    530\n",
       "29    452\n",
       "Name: value, dtype: int32"
      ]
     },
     "execution_count": 53,
     "metadata": {},
     "output_type": "execute_result"
    }
   ],
   "source": [
    "df1Q2.value"
   ]
  },
  {
   "cell_type": "code",
   "execution_count": 54,
   "id": "5519125e",
   "metadata": {},
   "outputs": [],
   "source": [
    "ss=sum([value**2 for value in df1Q2['value'].values])"
   ]
  },
  {
   "cell_type": "code",
   "execution_count": 55,
   "id": "af8783bb",
   "metadata": {},
   "outputs": [
    {
     "data": {
      "text/plain": [
       "7861710"
      ]
     },
     "execution_count": 55,
     "metadata": {},
     "output_type": "execute_result"
    }
   ],
   "source": [
    "ss"
   ]
  },
  {
   "cell_type": "code",
   "execution_count": 56,
   "id": "0c06f1f0",
   "metadata": {},
   "outputs": [],
   "source": [
    "TSS=0\n",
    "for i in df1Q2.value:\n",
    "    TSS=TSS+((i-mean_tot)**2)"
   ]
  },
  {
   "cell_type": "code",
   "execution_count": 57,
   "id": "eea57a13",
   "metadata": {},
   "outputs": [
    {
     "data": {
      "text/plain": [
       "62789.46666666665"
      ]
     },
     "execution_count": 57,
     "metadata": {},
     "output_type": "execute_result"
    }
   ],
   "source": [
    "TSS"
   ]
  },
  {
   "cell_type": "code",
   "execution_count": 58,
   "id": "8ebbc82c",
   "metadata": {},
   "outputs": [],
   "source": [
    "means_tr=np.array([mean_a,mean_b,mean_c,mean_d,mean_e])"
   ]
  },
  {
   "cell_type": "code",
   "execution_count": 63,
   "id": "2e5aa901",
   "metadata": {},
   "outputs": [
    {
     "name": "stdout",
     "output_type": "stream",
     "text": [
      "519.3333333333334\n",
      "509.0\n",
      "503.5\n",
      "521.0\n",
      "496.5\n"
     ]
    }
   ],
   "source": [
    "sstr=0\n",
    "for i in means_tr:\n",
    "    sstr=sstr+len(A)*((i-mean_tot)**2)\n",
    "    print(i)"
   ]
  },
  {
   "cell_type": "code",
   "execution_count": 65,
   "id": "1aac3250",
   "metadata": {},
   "outputs": [
    {
     "data": {
      "text/plain": [
       "2601.1333333333378"
      ]
     },
     "execution_count": 65,
     "metadata": {},
     "output_type": "execute_result"
    }
   ],
   "source": [
    "sstr"
   ]
  },
  {
   "cell_type": "code",
   "execution_count": 67,
   "id": "b3083841",
   "metadata": {},
   "outputs": [],
   "source": [
    "sse=TSS-sstr"
   ]
  },
  {
   "cell_type": "code",
   "execution_count": 72,
   "id": "f4f0db2a",
   "metadata": {},
   "outputs": [
    {
     "data": {
      "text/plain": [
       "60188.333333333314"
      ]
     },
     "execution_count": 72,
     "metadata": {},
     "output_type": "execute_result"
    }
   ],
   "source": [
    "sse"
   ]
  },
  {
   "cell_type": "code",
   "execution_count": 73,
   "id": "11f1320b",
   "metadata": {},
   "outputs": [],
   "source": [
    "mean_sstr=sstr/df_treatments"
   ]
  },
  {
   "cell_type": "code",
   "execution_count": 74,
   "id": "21b96416",
   "metadata": {},
   "outputs": [],
   "source": [
    "mean_sse=sse/df_error"
   ]
  },
  {
   "cell_type": "code",
   "execution_count": 80,
   "id": "dff85b4e",
   "metadata": {},
   "outputs": [],
   "source": [
    "fcal=mean_sstr/mean_sse"
   ]
  },
  {
   "cell_type": "code",
   "execution_count": null,
   "id": "c979ae92",
   "metadata": {},
   "outputs": [],
   "source": []
  },
  {
   "cell_type": "code",
   "execution_count": 81,
   "id": "ff966630",
   "metadata": {},
   "outputs": [],
   "source": [
    "sov=[\"treatment\",\"error\",\"total\"]\n",
    "doff=[df_treatments,df_error,df_total]\n",
    "ssq=[sstr,sse,TSS]\n",
    "mssq=[mean_sstr,mean_sse,np.nan]\n",
    "fc=[fcal,np.nan,np.nan]"
   ]
  },
  {
   "cell_type": "code",
   "execution_count": 82,
   "id": "a8ad1638",
   "metadata": {},
   "outputs": [],
   "source": [
    "anova={\"source of variation\":sov, \"df\":doff,\"sum squared\":ssq,\"mean sum squared\":mssq,\"f\":fc}"
   ]
  },
  {
   "cell_type": "code",
   "execution_count": 83,
   "id": "bd58b708",
   "metadata": {},
   "outputs": [],
   "source": [
    "anova_table = pd.DataFrame(anova)"
   ]
  },
  {
   "cell_type": "code",
   "execution_count": 84,
   "id": "8b271476",
   "metadata": {},
   "outputs": [
    {
     "data": {
      "text/html": [
       "<div>\n",
       "<style scoped>\n",
       "    .dataframe tbody tr th:only-of-type {\n",
       "        vertical-align: middle;\n",
       "    }\n",
       "\n",
       "    .dataframe tbody tr th {\n",
       "        vertical-align: top;\n",
       "    }\n",
       "\n",
       "    .dataframe thead th {\n",
       "        text-align: right;\n",
       "    }\n",
       "</style>\n",
       "<table border=\"1\" class=\"dataframe\">\n",
       "  <thead>\n",
       "    <tr style=\"text-align: right;\">\n",
       "      <th></th>\n",
       "      <th>source of variation</th>\n",
       "      <th>df</th>\n",
       "      <th>sum squared</th>\n",
       "      <th>mean sum squared</th>\n",
       "      <th>f</th>\n",
       "    </tr>\n",
       "  </thead>\n",
       "  <tbody>\n",
       "    <tr>\n",
       "      <th>0</th>\n",
       "      <td>treatment</td>\n",
       "      <td>4</td>\n",
       "      <td>2601.133333</td>\n",
       "      <td>650.283333</td>\n",
       "      <td>0.270104</td>\n",
       "    </tr>\n",
       "    <tr>\n",
       "      <th>1</th>\n",
       "      <td>error</td>\n",
       "      <td>25</td>\n",
       "      <td>60188.333333</td>\n",
       "      <td>2407.533333</td>\n",
       "      <td>NaN</td>\n",
       "    </tr>\n",
       "    <tr>\n",
       "      <th>2</th>\n",
       "      <td>total</td>\n",
       "      <td>29</td>\n",
       "      <td>62789.466667</td>\n",
       "      <td>NaN</td>\n",
       "      <td>NaN</td>\n",
       "    </tr>\n",
       "  </tbody>\n",
       "</table>\n",
       "</div>"
      ],
      "text/plain": [
       "  source of variation  df   sum squared  mean sum squared         f\n",
       "0           treatment   4   2601.133333        650.283333  0.270104\n",
       "1               error  25  60188.333333       2407.533333       NaN\n",
       "2               total  29  62789.466667               NaN       NaN"
      ]
     },
     "execution_count": 84,
     "metadata": {},
     "output_type": "execute_result"
    }
   ],
   "source": [
    "anova_table"
   ]
  },
  {
   "cell_type": "code",
   "execution_count": null,
   "id": "006709d9",
   "metadata": {},
   "outputs": [],
   "source": []
  }
 ],
 "metadata": {
  "kernelspec": {
   "display_name": "Python 3",
   "language": "python",
   "name": "python3"
  },
  "language_info": {
   "codemirror_mode": {
    "name": "ipython",
    "version": 3
   },
   "file_extension": ".py",
   "mimetype": "text/x-python",
   "name": "python",
   "nbconvert_exporter": "python",
   "pygments_lexer": "ipython3",
   "version": "3.8.8"
  }
 },
 "nbformat": 4,
 "nbformat_minor": 5
}
